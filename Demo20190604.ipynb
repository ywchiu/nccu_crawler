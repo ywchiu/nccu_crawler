{
 "cells": [
  {
   "cell_type": "markdown",
   "metadata": {},
   "source": [
    "## GET"
   ]
  },
  {
   "cell_type": "code",
   "execution_count": 14,
   "metadata": {},
   "outputs": [
    {
     "data": {
      "text/plain": [
       "<Response [200]>"
      ]
     },
     "execution_count": 14,
     "metadata": {},
     "output_type": "execute_result"
    }
   ],
   "source": [
    "import requests\n",
    "res = requests.get('https://tw.appledaily.com/new/realtime')\n",
    "res"
   ]
  },
  {
   "cell_type": "code",
   "execution_count": 16,
   "metadata": {},
   "outputs": [],
   "source": [
    "#res.text"
   ]
  },
  {
   "cell_type": "markdown",
   "metadata": {},
   "source": [
    "## POST"
   ]
  },
  {
   "cell_type": "code",
   "execution_count": 4,
   "metadata": {},
   "outputs": [],
   "source": [
    "import requests\n",
    "url     = 'https://www.thsrc.com.tw/tw/TimeTable/Search'\n",
    "payload = {\n",
    "'StartStationName':  '台北站',\n",
    "'EndStationName':  '新竹站',\n",
    "'SearchType': 'S',\n",
    "'StartStation': '977abb69-413a-4ccf-a109-0272c24fd490',\n",
    "'EndStation': 'a7a04c89-900b-4798-95a3-c01c455622f4',\n",
    "'DepartueSearchDate': '2019/06/04',\n",
    "'DepartueSearchTime': '11:30' \n",
    "}\n",
    "res = requests.post(url, data = payload)"
   ]
  },
  {
   "cell_type": "code",
   "execution_count": 5,
   "metadata": {},
   "outputs": [
    {
     "data": {
      "text/plain": [
       "<Response [200]>"
      ]
     },
     "execution_count": 5,
     "metadata": {},
     "output_type": "execute_result"
    }
   ],
   "source": [
    "res"
   ]
  },
  {
   "cell_type": "code",
   "execution_count": 8,
   "metadata": {},
   "outputs": [],
   "source": [
    "#res.json()"
   ]
  },
  {
   "cell_type": "code",
   "execution_count": 11,
   "metadata": {},
   "outputs": [
    {
     "data": {
      "text/plain": [
       "[['寶島股價報酬指數', '14,430.14', \"<p style ='color:green'>-</p>\", '4.92', '-0.03'],\n",
       " ['發行量加權股價報酬指數', '18,734.92', \"<p style ='color:red'>+</p>\", '3.98', '0.02'],\n",
       " ['臺灣公司治理100報酬指數', '7,040.50', \"<p style ='color:red'>+</p>\", '19.03', '0.27']]"
      ]
     },
     "execution_count": 11,
     "metadata": {},
     "output_type": "execute_result"
    }
   ],
   "source": [
    "import requests\n",
    "res = requests.get('http://www.twse.com.tw/exchangeReport/MI_INDEX?response=json&date=&type=&_=1559615412017')\n",
    "res.json()['data2'][0:3]"
   ]
  },
  {
   "cell_type": "code",
   "execution_count": 13,
   "metadata": {},
   "outputs": [
    {
     "name": "stdout",
     "output_type": "stream",
     "text": [
      "[['寶島股價報酬指數', '14,430.14', \"<p style ='color:green'>-</p>\", '4.92', '-0.03'], ['發行量加權股價報酬指數', '18,734.92', \"<p style ='color:red'>+</p>\", '3.98', '0.02'], ['臺灣公司治理100報酬指數', '7,040.50', \"<p style ='color:red'>+</p>\", '19.03', '0.27']]\n",
      "[['寶島股價報酬指數', '14,430.14', \"<p style ='color:green'>-</p>\", '4.92', '-0.03'], ['發行量加權股價報酬指數', '18,734.92', \"<p style ='color:red'>+</p>\", '3.98', '0.02'], ['臺灣公司治理100報酬指數', '7,040.50', \"<p style ='color:red'>+</p>\", '19.03', '0.27']]\n"
     ]
    }
   ],
   "source": [
    "import requests\n",
    "import time\n",
    "for i in range(2):\n",
    "    res = requests.get('http://www.twse.com.tw/exchangeReport/MI_INDEX?response=json&date=&type=&_=1559615412017')\n",
    "    print(res.json()['data2'][0:3])\n",
    "    time.sleep(3)"
   ]
  },
  {
   "cell_type": "markdown",
   "metadata": {},
   "source": [
    "## BeautifulSoup"
   ]
  },
  {
   "cell_type": "code",
   "execution_count": 17,
   "metadata": {},
   "outputs": [
    {
     "name": "stdout",
     "output_type": "stream",
     "text": [
      "\n",
      "\n",
      "Hello World\n",
      "This is link1\n",
      "This is link2\n",
      "\n",
      "\n"
     ]
    }
   ],
   "source": [
    "from bs4 import BeautifulSoup \n",
    "html_sample = ''' \n",
    "<html> \n",
    " <body> \n",
    " <h1 id=\"title\">Hello World</h1> \n",
    " <a href=\"#\" class=\"link\">This is link1</a> \n",
    " <a href=\"# link2\" class=\"link\">This is link2</a> \n",
    " </body> \n",
    " </html>'''\n",
    "\n",
    "soup = BeautifulSoup(html_sample, 'lxml')\n",
    "print(soup.text)\n"
   ]
  },
  {
   "cell_type": "code",
   "execution_count": 18,
   "metadata": {},
   "outputs": [
    {
     "data": {
      "text/plain": [
       "<h1 id=\"title\">Hello World</h1>"
      ]
     },
     "execution_count": 18,
     "metadata": {},
     "output_type": "execute_result"
    }
   ],
   "source": [
    "soup.select_one('h1')"
   ]
  },
  {
   "cell_type": "code",
   "execution_count": 19,
   "metadata": {},
   "outputs": [
    {
     "data": {
      "text/plain": [
       "'Hello World'"
      ]
     },
     "execution_count": 19,
     "metadata": {},
     "output_type": "execute_result"
    }
   ],
   "source": [
    "soup.select_one('h1').text"
   ]
  },
  {
   "cell_type": "code",
   "execution_count": 20,
   "metadata": {},
   "outputs": [
    {
     "data": {
      "text/plain": [
       "[<a class=\"link\" href=\"#\">This is link1</a>,\n",
       " <a class=\"link\" href=\"# link2\">This is link2</a>]"
      ]
     },
     "execution_count": 20,
     "metadata": {},
     "output_type": "execute_result"
    }
   ],
   "source": [
    "soup.select('a')"
   ]
  },
  {
   "cell_type": "code",
   "execution_count": 21,
   "metadata": {},
   "outputs": [
    {
     "data": {
      "text/plain": [
       "<h1 id=\"title\">Hello World</h1>"
      ]
     },
     "execution_count": 21,
     "metadata": {},
     "output_type": "execute_result"
    }
   ],
   "source": [
    "# id => #\n",
    "soup.select_one('#title')"
   ]
  },
  {
   "cell_type": "code",
   "execution_count": 23,
   "metadata": {},
   "outputs": [
    {
     "data": {
      "text/plain": [
       "[<a class=\"link\" href=\"#\">This is link1</a>,\n",
       " <a class=\"link\" href=\"# link2\">This is link2</a>]"
      ]
     },
     "execution_count": 23,
     "metadata": {},
     "output_type": "execute_result"
    }
   ],
   "source": [
    "# class => .\n",
    "soup.select('.link')"
   ]
  },
  {
   "cell_type": "code",
   "execution_count": 24,
   "metadata": {},
   "outputs": [
    {
     "data": {
      "text/plain": [
       "<h1 id=\"title\">Hello World</h1>"
      ]
     },
     "execution_count": 24,
     "metadata": {},
     "output_type": "execute_result"
    }
   ],
   "source": [
    "soup.select_one('h1#title')"
   ]
  },
  {
   "cell_type": "code",
   "execution_count": 25,
   "metadata": {},
   "outputs": [
    {
     "data": {
      "text/plain": [
       "<h1 id=\"title\">Hello World</h1>"
      ]
     },
     "execution_count": 25,
     "metadata": {},
     "output_type": "execute_result"
    }
   ],
   "source": [
    "soup.select_one('body h1#title')"
   ]
  },
  {
   "cell_type": "code",
   "execution_count": 26,
   "metadata": {},
   "outputs": [
    {
     "data": {
      "text/plain": [
       "<h1 id=\"title\">Hello World</h1>"
      ]
     },
     "execution_count": 26,
     "metadata": {},
     "output_type": "execute_result"
    }
   ],
   "source": [
    "soup.select_one('body h1')"
   ]
  },
  {
   "cell_type": "code",
   "execution_count": 28,
   "metadata": {},
   "outputs": [
    {
     "data": {
      "text/plain": [
       "[<a class=\"link\" href=\"#\">This is link1</a>,\n",
       " <a class=\"link\" href=\"# link2\">This is link2</a>]"
      ]
     },
     "execution_count": 28,
     "metadata": {},
     "output_type": "execute_result"
    }
   ],
   "source": [
    "soup.select('a.link')"
   ]
  },
  {
   "cell_type": "code",
   "execution_count": 29,
   "metadata": {},
   "outputs": [
    {
     "data": {
      "text/plain": [
       "[<a class=\"link\" href=\"#\">This is link1</a>,\n",
       " <a class=\"link\" href=\"# link2\">This is link2</a>]"
      ]
     },
     "execution_count": 29,
     "metadata": {},
     "output_type": "execute_result"
    }
   ],
   "source": [
    "soup.select('body a.link')"
   ]
  },
  {
   "cell_type": "code",
   "execution_count": 31,
   "metadata": {},
   "outputs": [
    {
     "name": "stdout",
     "output_type": "stream",
     "text": [
      "#\n",
      "# link2\n"
     ]
    }
   ],
   "source": [
    "for link in soup.select('a'):\n",
    "    print(link.get('href'))"
   ]
  },
  {
   "cell_type": "markdown",
   "metadata": {},
   "source": [
    "## 蘋果網路爬蟲"
   ]
  },
  {
   "cell_type": "code",
   "execution_count": 33,
   "metadata": {},
   "outputs": [],
   "source": [
    "import requests\n",
    "res = requests.get('https://tw.appledaily.com/new/realtime')"
   ]
  },
  {
   "cell_type": "code",
   "execution_count": 35,
   "metadata": {},
   "outputs": [],
   "source": [
    "from bs4 import BeautifulSoup\n",
    "soup = BeautifulSoup(res.text, 'lxml')"
   ]
  },
  {
   "cell_type": "code",
   "execution_count": 48,
   "metadata": {},
   "outputs": [],
   "source": [
    "newsary = []\n",
    "for news in soup.select('li.rtddt a'):\n",
    "    #print(news)\n",
    "    title = news.select_one('h1').text\n",
    "    category = news.select_one('h2').text\n",
    "    dt = news.select_one('time').text\n",
    "    link = news.get('href')\n",
    "    newsary.append({'title':title, 'category':category, 'dt': dt, 'link': link})\n",
    "    #print(title, category, dt, link)\n",
    "    #print('===============================')"
   ]
  },
  {
   "cell_type": "markdown",
   "metadata": {},
   "source": [
    "## 使用Pandas整理資料"
   ]
  },
  {
   "cell_type": "code",
   "execution_count": 50,
   "metadata": {},
   "outputs": [],
   "source": [
    "import pandas\n",
    "df = pandas.DataFrame(newsary)"
   ]
  },
  {
   "cell_type": "code",
   "execution_count": null,
   "metadata": {},
   "outputs": [],
   "source": []
  },
  {
   "cell_type": "code",
   "execution_count": 52,
   "metadata": {},
   "outputs": [
    {
     "data": {
      "text/html": [
       "<div>\n",
       "<style scoped>\n",
       "    .dataframe tbody tr th:only-of-type {\n",
       "        vertical-align: middle;\n",
       "    }\n",
       "\n",
       "    .dataframe tbody tr th {\n",
       "        vertical-align: top;\n",
       "    }\n",
       "\n",
       "    .dataframe thead th {\n",
       "        text-align: right;\n",
       "    }\n",
       "</style>\n",
       "<table border=\"1\" class=\"dataframe\">\n",
       "  <thead>\n",
       "    <tr style=\"text-align: right;\">\n",
       "      <th></th>\n",
       "      <th>category</th>\n",
       "      <th>dt</th>\n",
       "      <th>link</th>\n",
       "      <th>title</th>\n",
       "    </tr>\n",
       "  </thead>\n",
       "  <tbody>\n",
       "    <tr>\n",
       "      <th>0</th>\n",
       "      <td>社會</td>\n",
       "      <td>10:46</td>\n",
       "      <td>https://tw.news.appledaily.com/local/realtime/...</td>\n",
       "      <td>逆子狠砍20刀弒父　伴屍3天後棄屍橋下</td>\n",
       "    </tr>\n",
       "    <tr>\n",
       "      <th>1</th>\n",
       "      <td>財經</td>\n",
       "      <td>10:46</td>\n",
       "      <td>https://tw.finance.appledaily.com/realtime/201...</td>\n",
       "      <td>巴菲特午餐得標者曝光　中國28歲虛擬貨幣...</td>\n",
       "    </tr>\n",
       "    <tr>\n",
       "      <th>2</th>\n",
       "      <td>社會</td>\n",
       "      <td>10:46</td>\n",
       "      <td>https://tw.news.appledaily.com/local/realtime/...</td>\n",
       "      <td>女誤信友人能替她守住財庫　洩漏提款卡密碼...</td>\n",
       "    </tr>\n",
       "    <tr>\n",
       "      <th>3</th>\n",
       "      <td>3C</td>\n",
       "      <td>10:45</td>\n",
       "      <td>https://tw.lifestyle.appledaily.com/gadget/rea...</td>\n",
       "      <td>【WWDC直擊】Apple發表會10大亮...</td>\n",
       "    </tr>\n",
       "    <tr>\n",
       "      <th>4</th>\n",
       "      <td>娛樂</td>\n",
       "      <td>10:40</td>\n",
       "      <td>https://tw.entertainment.appledaily.com/realti...</td>\n",
       "      <td>曝賀一航生前大轉變　曹西平嘆「他很拚，什...</td>\n",
       "    </tr>\n",
       "  </tbody>\n",
       "</table>\n",
       "</div>"
      ],
      "text/plain": [
       "  category     dt                                               link  \\\n",
       "0       社會  10:46  https://tw.news.appledaily.com/local/realtime/...   \n",
       "1       財經  10:46  https://tw.finance.appledaily.com/realtime/201...   \n",
       "2       社會  10:46  https://tw.news.appledaily.com/local/realtime/...   \n",
       "3       3C  10:45  https://tw.lifestyle.appledaily.com/gadget/rea...   \n",
       "4       娛樂  10:40  https://tw.entertainment.appledaily.com/realti...   \n",
       "\n",
       "                     title  \n",
       "0      逆子狠砍20刀弒父　伴屍3天後棄屍橋下  \n",
       "1  巴菲特午餐得標者曝光　中國28歲虛擬貨幣...  \n",
       "2  女誤信友人能替她守住財庫　洩漏提款卡密碼...  \n",
       "3  【WWDC直擊】Apple發表會10大亮...  \n",
       "4  曝賀一航生前大轉變　曹西平嘆「他很拚，什...  "
      ]
     },
     "execution_count": 52,
     "metadata": {},
     "output_type": "execute_result"
    }
   ],
   "source": [
    "df.head()"
   ]
  },
  {
   "cell_type": "markdown",
   "metadata": {},
   "source": [
    "## 將資料匯出成Excel"
   ]
  },
  {
   "cell_type": "code",
   "execution_count": 53,
   "metadata": {},
   "outputs": [],
   "source": [
    "df.to_excel('applenews.xlsx')"
   ]
  },
  {
   "cell_type": "code",
   "execution_count": null,
   "metadata": {},
   "outputs": [],
   "source": [
    "template = '''\n",
    "<li class=\"rtddt busi\">\n",
    "    <a href=\"https://tw.finance.appledaily.com/realtime/20190604/1578232/\" target=\"_blank\">\n",
    "          <time>10:46</time>\n",
    "          <h2>財經</h2>\n",
    "          <h1><font color=\"#383c40\">巴菲特午餐得標者曝光　中國28歲虛擬貨幣...</font></h1>\n",
    "    </a>\n",
    "</li>\n",
    "<li class=\"rtddt ccc\">\n",
    "       <a href=\"https://tw.lifestyle.appledaily.com/gadget/realtime/20190604/1577566/\" target=\"_blank\">\n",
    "                                        <time>10:45</time>\n",
    "                                        <h2>3C</h2>\n",
    "                                        <h1><font color=\"#ff0000\">【WWDC直擊】Apple發表會10大亮...</font></h1>\n",
    "                                    </a>\n",
    "</li>\n",
    "'''"
   ]
  },
  {
   "cell_type": "markdown",
   "metadata": {},
   "source": [
    "## 591 租屋網爬蟲"
   ]
  },
  {
   "cell_type": "code",
   "execution_count": 55,
   "metadata": {},
   "outputs": [],
   "source": [
    "import requests\n",
    "res = requests.get('https://rent.591.com.tw/home/search/rsList?is_new_list=1&type=1&kind=1&searchtype=1&region=1&section=5&firstRow=30&totalRows=786')"
   ]
  },
  {
   "cell_type": "code",
   "execution_count": 57,
   "metadata": {},
   "outputs": [],
   "source": [
    "#res.text"
   ]
  },
  {
   "cell_type": "code",
   "execution_count": 71,
   "metadata": {},
   "outputs": [],
   "source": [
    "rs = requests.session()\n",
    "res = rs.get('https://rent.591.com.tw/?kind=1&region=1&section=5')\n",
    "soup = BeautifulSoup(res.text, 'lxml')\n",
    "token = soup.select_one('meta[name=\"csrf-token\"]')['content']"
   ]
  },
  {
   "cell_type": "code",
   "execution_count": 73,
   "metadata": {},
   "outputs": [],
   "source": [
    "headers ={\n",
    " 'X-CSRF-TOKEN': token,\n",
    "'X-Requested-With': 'XMLHttpRequest'   \n",
    "    \n",
    "}\n",
    "dataary = []\n",
    "for p in range(int(786 / 30) + 1 ) :   \n",
    "    res2 = rs.get('https://rent.591.com.tw/home/search/rsList?is_new_list=1&type=1&kind=1&searchtype=1&region=1&section=5&firstRow={}&totalRows=786'.format(p), headers = headers)\n",
    "    jd = res2.json()['data']['data']\n",
    "    df = pandas.DataFrame(jd)\n",
    "    dataary.append(df)"
   ]
  },
  {
   "cell_type": "code",
   "execution_count": 76,
   "metadata": {},
   "outputs": [
    {
     "data": {
      "text/html": [
       "<div>\n",
       "<style scoped>\n",
       "    .dataframe tbody tr th:only-of-type {\n",
       "        vertical-align: middle;\n",
       "    }\n",
       "\n",
       "    .dataframe tbody tr th {\n",
       "        vertical-align: top;\n",
       "    }\n",
       "\n",
       "    .dataframe thead th {\n",
       "        text-align: right;\n",
       "    }\n",
       "</style>\n",
       "<table border=\"1\" class=\"dataframe\">\n",
       "  <thead>\n",
       "    <tr style=\"text-align: right;\">\n",
       "      <th></th>\n",
       "      <th>addInfo</th>\n",
       "      <th>addition2</th>\n",
       "      <th>addition3</th>\n",
       "      <th>addition4</th>\n",
       "      <th>addr_number_name</th>\n",
       "      <th>address</th>\n",
       "      <th>address_img</th>\n",
       "      <th>address_img_title</th>\n",
       "      <th>alley_name</th>\n",
       "      <th>allfloor</th>\n",
       "      <th>...</th>\n",
       "      <th>storeprice</th>\n",
       "      <th>street_name</th>\n",
       "      <th>streetid</th>\n",
       "      <th>type</th>\n",
       "      <th>unit</th>\n",
       "      <th>updatetime</th>\n",
       "      <th>user_id</th>\n",
       "      <th>vipBorder</th>\n",
       "      <th>vipimg</th>\n",
       "      <th>vipstyle</th>\n",
       "    </tr>\n",
       "  </thead>\n",
       "  <tbody>\n",
       "    <tr>\n",
       "      <th>0</th>\n",
       "      <td></td>\n",
       "      <td>0</td>\n",
       "      <td>0</td>\n",
       "      <td>1</td>\n",
       "      <td></td>\n",
       "      <td>和平東路一段師大古亭商圈..</td>\n",
       "      <td>師大古亭商圈電梯大樓經典時尚溫馨美宅</td>\n",
       "      <td>師大古亭商圈電梯大樓經典時尚溫馨美宅</td>\n",
       "      <td></td>\n",
       "      <td>19</td>\n",
       "      <td>...</td>\n",
       "      <td>0</td>\n",
       "      <td>和平東路一段</td>\n",
       "      <td>25632</td>\n",
       "      <td>1</td>\n",
       "      <td>元/月</td>\n",
       "      <td>1559287270</td>\n",
       "      <td>2555111</td>\n",
       "      <td>vipStyle</td>\n",
       "      <td></td>\n",
       "      <td>isvip</td>\n",
       "    </tr>\n",
       "    <tr>\n",
       "      <th>1</th>\n",
       "      <td></td>\n",
       "      <td>0</td>\n",
       "      <td>0</td>\n",
       "      <td>1</td>\n",
       "      <td>86號</td>\n",
       "      <td>光復南路高樓層大巨蛋正對..</td>\n",
       "      <td>高樓層大巨蛋正對面近捷運國父紀念館站</td>\n",
       "      <td>高樓層大巨蛋正對面近捷運國父紀念館站</td>\n",
       "      <td></td>\n",
       "      <td>13</td>\n",
       "      <td>...</td>\n",
       "      <td>0</td>\n",
       "      <td>光復南路</td>\n",
       "      <td>25623</td>\n",
       "      <td>1</td>\n",
       "      <td>元/月</td>\n",
       "      <td>1558932105</td>\n",
       "      <td>452502</td>\n",
       "      <td>vipStyle</td>\n",
       "      <td></td>\n",
       "      <td>isvip</td>\n",
       "    </tr>\n",
       "    <tr>\n",
       "      <th>2</th>\n",
       "      <td></td>\n",
       "      <td>0</td>\n",
       "      <td>0</td>\n",
       "      <td>1</td>\n",
       "      <td></td>\n",
       "      <td>信義路三段台北大安森林公..</td>\n",
       "      <td>台北大安森林公園(可短租/設籍/營登)</td>\n",
       "      <td>台北大安森林公園(可短租/設籍/營登)</td>\n",
       "      <td></td>\n",
       "      <td>14</td>\n",
       "      <td>...</td>\n",
       "      <td>0</td>\n",
       "      <td>信義路三段</td>\n",
       "      <td>25647</td>\n",
       "      <td>1</td>\n",
       "      <td>元/月</td>\n",
       "      <td>1556941550</td>\n",
       "      <td>104199</td>\n",
       "      <td>vipStyle</td>\n",
       "      <td></td>\n",
       "      <td>isvip</td>\n",
       "    </tr>\n",
       "  </tbody>\n",
       "</table>\n",
       "<p>3 rows × 88 columns</p>\n",
       "</div>"
      ],
      "text/plain": [
       "  addInfo  addition2  addition3  addition4 addr_number_name         address  \\\n",
       "0                  0          0          1                   和平東路一段師大古亭商圈..   \n",
       "1                  0          0          1              86號  光復南路高樓層大巨蛋正對..   \n",
       "2                  0          0          1                   信義路三段台北大安森林公..   \n",
       "\n",
       "           address_img    address_img_title alley_name  allfloor  ...  \\\n",
       "0   師大古亭商圈電梯大樓經典時尚溫馨美宅   師大古亭商圈電梯大樓經典時尚溫馨美宅                   19  ...   \n",
       "1   高樓層大巨蛋正對面近捷運國父紀念館站   高樓層大巨蛋正對面近捷運國父紀念館站                   13  ...   \n",
       "2  台北大安森林公園(可短租/設籍/營登)  台北大安森林公園(可短租/設籍/營登)                   14  ...   \n",
       "\n",
       "   storeprice street_name  streetid  type unit  updatetime  user_id vipBorder  \\\n",
       "0           0      和平東路一段     25632     1  元/月  1559287270  2555111  vipStyle   \n",
       "1           0        光復南路     25623     1  元/月  1558932105   452502  vipStyle   \n",
       "2           0       信義路三段     25647     1  元/月  1556941550   104199  vipStyle   \n",
       "\n",
       "   vipimg  vipstyle  \n",
       "0             isvip  \n",
       "1             isvip  \n",
       "2             isvip  \n",
       "\n",
       "[3 rows x 88 columns]"
      ]
     },
     "execution_count": 76,
     "metadata": {},
     "output_type": "execute_result"
    }
   ],
   "source": [
    "dfall = pandas.concat(dataary)\n",
    "dfall.head(3)"
   ]
  },
  {
   "cell_type": "code",
   "execution_count": 80,
   "metadata": {},
   "outputs": [],
   "source": [
    "#dfall.columns"
   ]
  },
  {
   "cell_type": "code",
   "execution_count": 81,
   "metadata": {},
   "outputs": [],
   "source": [
    "dfall = dfall[['address', 'area', 'price', 'layout']]"
   ]
  },
  {
   "cell_type": "code",
   "execution_count": 83,
   "metadata": {},
   "outputs": [
    {
     "name": "stderr",
     "output_type": "stream",
     "text": [
      "/Users/davidchiu/.pyenv/versions/3.6.2/lib/python3.6/site-packages/ipykernel_launcher.py:1: SettingWithCopyWarning: \n",
      "A value is trying to be set on a copy of a slice from a DataFrame.\n",
      "Try using .loc[row_indexer,col_indexer] = value instead\n",
      "\n",
      "See the caveats in the documentation: http://pandas.pydata.org/pandas-docs/stable/indexing.html#indexing-view-versus-copy\n",
      "  \"\"\"Entry point for launching an IPython kernel.\n"
     ]
    }
   ],
   "source": [
    "dfall['price'] = dfall['price'].map(lambda e: int(e.replace(',', '')))"
   ]
  },
  {
   "cell_type": "code",
   "execution_count": 86,
   "metadata": {},
   "outputs": [
    {
     "name": "stdout",
     "output_type": "stream",
     "text": [
      "Populating the interactive namespace from numpy and matplotlib\n"
     ]
    },
    {
     "data": {
      "text/plain": [
       "<matplotlib.axes._subplots.AxesSubplot at 0x1126a45f8>"
      ]
     },
     "execution_count": 86,
     "metadata": {},
     "output_type": "execute_result"
    },
    {
     "data": {
      "image/png": "[encoded data removed]",
      "text/plain": [
       "<Figure size 432x288 with 1 Axes>"
      ]
     },
     "metadata": {},
     "output_type": "display_data"
    }
   ],
   "source": [
    "%pylab inline\n",
    "dfall.plot(x = 'area', y = 'price', kind = 'scatter')"
   ]
  },
  {
   "cell_type": "code",
   "execution_count": 93,
   "metadata": {},
   "outputs": [
    {
     "data": {
      "text/plain": [
       "GradientBoostingRegressor(alpha=0.9, criterion='friedman_mse', init=None,\n",
       "             learning_rate=0.1, loss='ls', max_depth=3, max_features=None,\n",
       "             max_leaf_nodes=None, min_impurity_decrease=0.0,\n",
       "             min_impurity_split=None, min_samples_leaf=1,\n",
       "             min_samples_split=2, min_weight_fraction_leaf=0.0,\n",
       "             n_estimators=100, presort='auto', random_state=None,\n",
       "             subsample=1.0, verbose=0, warm_start=False)"
      ]
     },
     "execution_count": 93,
     "metadata": {},
     "output_type": "execute_result"
    }
   ],
   "source": [
    "from sklearn.linear_model import LinearRegression\n",
    "from sklearn.ensemble import GradientBoostingRegressor\n",
    "clf = GradientBoostingRegressor()\n",
    "y = dfall['price'].values\n",
    "x = dfall[['area']]\n",
    "clf.fit(x, y)"
   ]
  },
  {
   "cell_type": "code",
   "execution_count": 91,
   "metadata": {},
   "outputs": [
    {
     "data": {
      "text/plain": [
       "array([34093.97031171])"
      ]
     },
     "execution_count": 91,
     "metadata": {},
     "output_type": "execute_result"
    }
   ],
   "source": [
    "import numpy\n",
    "clf.predict(numpy.array([[20]]))"
   ]
  },
  {
   "cell_type": "code",
   "execution_count": 92,
   "metadata": {},
   "outputs": [
    {
     "data": {
      "text/plain": [
       "array([47064.68913756])"
      ]
     },
     "execution_count": 92,
     "metadata": {},
     "output_type": "execute_result"
    }
   ],
   "source": [
    "import numpy\n",
    "clf.predict(numpy.array([[30]]))"
   ]
  },
  {
   "cell_type": "code",
   "execution_count": 94,
   "metadata": {},
   "outputs": [],
   "source": [
    "import requests\n",
    "res = requests.get('https://www.google.com/search?ei=mOP1XIOkJJP8wQOHx4fIDA&rlz=1C5CHFA_enTW718TW718&yv=3&q=%E5%91%A8%E5%AD%90%E7%91%9C&tbm=isch&vet=10ahUKEwiD0NzA787iAhUTfnAKHYfjAckQuT0IYigB.mOP1XIOkJJP8wQOHx4fIDA.i&ved=0ahUKEwiD0NzA787iAhUTfnAKHYfjAckQuT0IYigB&ijn=1&start=100&asearch=ichunk&async=_id:rg_s,_pms:s,_fmt:pc')\n",
    "from bs4 import BeautifulSoup\n",
    "soup = BeautifulSoup(res.text, 'lxml')"
   ]
  },
  {
   "cell_type": "code",
   "execution_count": 97,
   "metadata": {},
   "outputs": [
    {
     "name": "stdout",
     "output_type": "stream",
     "text": [
      "https://encrypted-tbn0.gstatic.com/images?q=tbn:ANd9GcT8Kf_r2MRXG31drhbMfABDDUQkaSMVrsIn2GQ_qTTg_C7Tsxn7\n",
      "https://encrypted-tbn0.gstatic.com/images?q=tbn:ANd9GcSPA6GuGGOIlwL_b2eB9NBiS23_RD8zTP4Q1MQns40-iopmzng_jA\n",
      "https://encrypted-tbn0.gstatic.com/images?q=tbn:ANd9GcSHfEPFBfSeKzj7XCrDsP4AxNGBheQx6zVUIf1zooifUly-XaPz\n",
      "https://encrypted-tbn0.gstatic.com/images?q=tbn:ANd9GcTgCaYCfpBWNwcRdYdPDbBQsFvog82SoiRtpZQcUWR6kzh6Ixnm0A\n",
      "https://encrypted-tbn0.gstatic.com/images?q=tbn:ANd9GcSJLMKdMfwK1Edkgxl7uIXJ2OHWCeUcgroRKpzhZGxIGeONO8rw\n",
      "https://encrypted-tbn0.gstatic.com/images?q=tbn:ANd9GcSnvrb2p_vouek-DZXfnYylRaRcxxLuizjzhlAmaK6czr5xU-5Y\n",
      "https://encrypted-tbn0.gstatic.com/images?q=tbn:ANd9GcTFUZy00n_S3GhdEjMgCpKbea9dFg6_fqpv27AQghL9fa4ilyNmQw\n",
      "https://encrypted-tbn0.gstatic.com/images?q=tbn:ANd9GcSBENnjNbe030FMpT_OhVyp7-xfHHn1EvL4rrdPpELBIWpJ0T6m\n",
      "https://encrypted-tbn0.gstatic.com/images?q=tbn:ANd9GcRM9qairXlhTJNB6-JkJmPkUBagry07rTVnPUJHBhpoMJsKyChwfg\n",
      "https://encrypted-tbn0.gstatic.com/images?q=tbn:ANd9GcQSpMBkCJOMB1w_N4KtP6AUDwvMS7AHj1chHLTp68AzHT0Gtqlvtg\n",
      "https://encrypted-tbn0.gstatic.com/images?q=tbn:ANd9GcQqI5889QsvHf2pJA4KVtrIGO0koistCDG8G8_jQLzc-Ck8Ja4XF-XfFYxP\n",
      "https://encrypted-tbn0.gstatic.com/images?q=tbn:ANd9GcTl5MdG_B-71IPirsSXp-C-um-GK6D2DQYEtm-FRjYiisb3zjb5\n",
      "https://encrypted-tbn0.gstatic.com/images?q=tbn:ANd9GcQg2dsg5UGv78UtqWrZyERb8LsZ4LSMmEWbQZVpZRX_zJEUtwj9Vw\n",
      "https://encrypted-tbn0.gstatic.com/images?q=tbn:ANd9GcTpYfFB-XipWnnH3aLtMTsMpczAMPU3IcJSPAI6WgjSc_4xXHX_\n",
      "https://encrypted-tbn0.gstatic.com/images?q=tbn:ANd9GcSYKmWAhN1iG-UaXGWVlimHNwEE_ztspChh4R-TGi3J3aW0k7eN\n",
      "https://encrypted-tbn0.gstatic.com/images?q=tbn:ANd9GcTnhZEWu2gYa82lQa3WMu6QL4TqTXMuDZVzx17z2lcLkCf1QsHc\n",
      "https://encrypted-tbn0.gstatic.com/images?q=tbn:ANd9GcR7rRHrtAzdZo9vVnSIGE9106nQMqPDHxRefBKz4_qumJ0ll82a\n",
      "https://encrypted-tbn0.gstatic.com/images?q=tbn:ANd9GcQv96C_oFTGLWlksyoMn4rGt2Evs8CZseLm7phveZj7FTfPySTh\n",
      "https://encrypted-tbn0.gstatic.com/images?q=tbn:ANd9GcROqhkMOFs-KRAiBgrUQsrvpHJUuZiAerRMT4POkE6rHgUGytpLkA\n",
      "https://encrypted-tbn0.gstatic.com/images?q=tbn:ANd9GcT9YNjG7l3wGrIHWrFUlo7gdoZOD7ztUNTDFIbY3mq8vwWrAJtfKQ\n"
     ]
    }
   ],
   "source": [
    "for ele in soup.select('img'):\n",
    "    if ele.get('src'):\n",
    "        link = ele.get('src')\n",
    "        link.split('tb')"
   ]
  },
  {
   "cell_type": "code",
   "execution_count": null,
   "metadata": {},
   "outputs": [],
   "source": []
  }
 ],
 "metadata": {
  "kernelspec": {
   "display_name": "Python 3",
   "language": "python",
   "name": "python3"
  },
  "language_info": {
   "codemirror_mode": {
    "name": "ipython",
    "version": 3
   },
   "file_extension": ".py",
   "mimetype": "text/x-python",
   "name": "python",
   "nbconvert_exporter": "python",
   "pygments_lexer": "ipython3",
   "version": "3.6.2"
  }
 },
 "nbformat": 4,
 "nbformat_minor": 2
}
